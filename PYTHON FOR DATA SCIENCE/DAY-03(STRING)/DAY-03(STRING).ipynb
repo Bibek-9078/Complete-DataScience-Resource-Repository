{
 "cells": [
  {
   "cell_type": "markdown",
   "id": "c79d36a5",
   "metadata": {},
   "source": [
    "<font size ='5'><center> <left>***DAY-3(STRING)*** </left></center>"
   ]
  },
  {
   "cell_type": "markdown",
   "id": "67f7d976",
   "metadata": {},
   "source": [
    "* <font size ='3'>Strings are sequence of Characters.</font>\n",
    "* <font size ='3'>In Python specifically, strings are a sequence of Unicode Characters.</font>"
   ]
  },
  {
   "cell_type": "markdown",
   "id": "8c02017b",
   "metadata": {},
   "source": [
    "<font size ='5'><b><center>1.CREATE A STRING </b></font></center>"
   ]
  },
  {
   "cell_type": "markdown",
   "id": "2e2a6168",
   "metadata": {},
   "source": [
    "*<font size ='3'>String can be created by enclosing characters inside a single or double quotes.</font> \n",
    " \n",
    "*<font size ='3'>Tripple quote can be represented as multiline string.</font>"
   ]
  },
  {
   "cell_type": "code",
   "execution_count": 1,
   "id": "fcd8e12a",
   "metadata": {},
   "outputs": [
    {
     "name": "stdout",
     "output_type": "stream",
     "text": [
      "Hello\n"
     ]
    }
   ],
   "source": [
    "c = 'Hello' # single line strings\n",
    "print(c)"
   ]
  },
  {
   "cell_type": "code",
   "execution_count": 2,
   "id": "603bf462",
   "metadata": {},
   "outputs": [
    {
     "name": "stdout",
     "output_type": "stream",
     "text": [
      "Hello\n"
     ]
    }
   ],
   "source": [
    "c = \"Hello\"  # double line strings\n",
    "print(c)"
   ]
  },
  {
   "cell_type": "code",
   "execution_count": 3,
   "id": "39f7639b",
   "metadata": {},
   "outputs": [
    {
     "name": "stdout",
     "output_type": "stream",
     "text": [
      "Hello\n"
     ]
    }
   ],
   "source": [
    "c = '''Hello'''\n",
    "print(c)  # multi line strings"
   ]
  },
  {
   "cell_type": "code",
   "execution_count": 4,
   "id": "08e3ab07",
   "metadata": {},
   "outputs": [
    {
     "name": "stdout",
     "output_type": "stream",
     "text": [
      "hello\n"
     ]
    }
   ],
   "source": [
    "s=str('hello')\n",
    "print(s)"
   ]
  },
  {
   "cell_type": "markdown",
   "id": "33fd3679",
   "metadata": {},
   "source": [
    " <font size ='5'><b><center>2.ACCESS SUBSTRING FROM STRING  </b></font></center>"
   ]
  },
  {
   "cell_type": "markdown",
   "id": "ba9f8fb5",
   "metadata": {},
   "source": [
    "<font size ='3'>1.We can access individual characters useing indexing and a  range of character useing slicing.</font>\n",
    "\n",
    "<font size ='3'>2. index starts from zeros.</font>\n",
    "\n",
    "<font size ='3'>3. trying o access a character out of index range will be raise a error.</font>\n",
    "\n",
    "<font size ='3'>4. The index must be an integer we can not use float or other types ,this will result into type error.</font>\n",
    "\n",
    "<font size ='3'>5. python allows negative index for its sequence.</font>\n"
   ]
  },
  {
   "cell_type": "markdown",
   "id": "77ddeed0",
   "metadata": {},
   "source": [
    "<font size ='5'><b><center>Concept of Indexing</b></font></center>"
   ]
  },
  {
   "cell_type": "markdown",
   "id": "47127891",
   "metadata": {},
   "source": [
    "<font size ='3'>1.Positive Indexing(left to right)</font>"
   ]
  },
  {
   "cell_type": "code",
   "execution_count": 5,
   "id": "f9f3954a",
   "metadata": {},
   "outputs": [
    {
     "name": "stdout",
     "output_type": "stream",
     "text": [
      "h\n"
     ]
    }
   ],
   "source": [
    "c = \"hello\"\n",
    "print(c[0])          # Positive Indexing"
   ]
  },
  {
   "cell_type": "markdown",
   "id": "e2ed1952",
   "metadata": {},
   "source": [
    "<font size ='3'>2.Negative Indexing(right to left)</font>"
   ]
  },
  {
   "cell_type": "code",
   "execution_count": 6,
   "id": "89a55733",
   "metadata": {},
   "outputs": [
    {
     "name": "stdout",
     "output_type": "stream",
     "text": [
      "o\n"
     ]
    }
   ],
   "source": [
    "c = \"hello\"\n",
    "print(c[-1])         #Negative Indexing"
   ]
  },
  {
   "cell_type": "markdown",
   "id": "b7fe6a85",
   "metadata": {},
   "source": [
    "<font size ='5'><b><center>Concept of Slicing</b></font></center>"
   ]
  },
  {
   "cell_type": "code",
   "execution_count": 7,
   "id": "a424ca8f",
   "metadata": {},
   "outputs": [],
   "source": [
    "c = \"Hello World\""
   ]
  },
  {
   "cell_type": "code",
   "execution_count": 8,
   "id": "db0de08d",
   "metadata": {},
   "outputs": [
    {
     "name": "stdout",
     "output_type": "stream",
     "text": [
      "Hello World\n"
     ]
    }
   ],
   "source": [
    "print(c)"
   ]
  },
  {
   "cell_type": "code",
   "execution_count": 9,
   "id": "45e091b4",
   "metadata": {},
   "outputs": [
    {
     "name": "stdout",
     "output_type": "stream",
     "text": [
      "Hello\n"
     ]
    }
   ],
   "source": [
    "print(c[0:5])"
   ]
  },
  {
   "cell_type": "code",
   "execution_count": 10,
   "id": "dd4596db",
   "metadata": {},
   "outputs": [
    {
     "name": "stdout",
     "output_type": "stream",
     "text": [
      "Hello\n"
     ]
    }
   ],
   "source": [
    "print(c[0:5])"
   ]
  },
  {
   "cell_type": "code",
   "execution_count": 11,
   "id": "d263a3e4",
   "metadata": {},
   "outputs": [
    {
     "name": "stdout",
     "output_type": "stream",
     "text": [
      "llo World\n"
     ]
    }
   ],
   "source": [
    "print(c[2:])"
   ]
  },
  {
   "cell_type": "code",
   "execution_count": 12,
   "id": "44ad7b05",
   "metadata": {},
   "outputs": [
    {
     "name": "stdout",
     "output_type": "stream",
     "text": [
      "Hell\n"
     ]
    }
   ],
   "source": [
    "print(c[:4])"
   ]
  },
  {
   "cell_type": "code",
   "execution_count": 13,
   "id": "3165b520",
   "metadata": {},
   "outputs": [
    {
     "name": "stdout",
     "output_type": "stream",
     "text": [
      "Hello World\n"
     ]
    }
   ],
   "source": [
    "print(c[:])"
   ]
  },
  {
   "cell_type": "code",
   "execution_count": 14,
   "id": "9f0ce328",
   "metadata": {},
   "outputs": [
    {
     "name": "stdout",
     "output_type": "stream",
     "text": [
      "HlW\n"
     ]
    }
   ],
   "source": [
    "print(c[0:8:3])"
   ]
  },
  {
   "cell_type": "code",
   "execution_count": 15,
   "id": "95a8c7f2",
   "metadata": {},
   "outputs": [
    {
     "name": "stdout",
     "output_type": "stream",
     "text": [
      "\n"
     ]
    }
   ],
   "source": [
    "print(c[0:6:-1])"
   ]
  },
  {
   "cell_type": "code",
   "execution_count": 16,
   "id": "12788adf",
   "metadata": {},
   "outputs": [
    {
     "name": "stdout",
     "output_type": "stream",
     "text": [
      "Wr\n"
     ]
    }
   ],
   "source": [
    "print(c[-5:-1:2])"
   ]
  },
  {
   "cell_type": "code",
   "execution_count": 17,
   "id": "863e3228",
   "metadata": {},
   "outputs": [
    {
     "name": "stdout",
     "output_type": "stream",
     "text": [
      "dlroW olleH\n"
     ]
    }
   ],
   "source": [
    "print(c[::-1])"
   ]
  },
  {
   "cell_type": "code",
   "execution_count": 18,
   "id": "79a65eda",
   "metadata": {},
   "outputs": [
    {
     "name": "stdout",
     "output_type": "stream",
     "text": [
      "dlro\n"
     ]
    }
   ],
   "source": [
    "print(c[-1:-5:-1])"
   ]
  },
  {
   "cell_type": "markdown",
   "id": "47bc5b13",
   "metadata": {},
   "source": [
    " <font size ='5'><b><center>3.EDITING AND DELETEING</b></font></center>"
   ]
  },
  {
   "cell_type": "markdown",
   "id": "e063481f",
   "metadata": {},
   "source": [
    "<font size ='3'>1.Python strings are immutable.</font>\n",
    "\n",
    "<font size ='3'>2.String are not deleted partially.But deleted complitely.</font>\n",
    "\n",
    "<font size ='3'>3.String are not edit but re-assign it.</font>"
   ]
  },
  {
   "cell_type": "markdown",
   "id": "e2fcb6cc",
   "metadata": {},
   "source": [
    " <font size ='5'><b><center>4.OPERATION ON STRING</b></font></center>"
   ]
  },
  {
   "cell_type": "markdown",
   "id": "71e7ad21",
   "metadata": {},
   "source": [
    "<font size ='3'> <B> 1.Arithmetic Operations</B> </font>"
   ]
  },
  {
   "cell_type": "code",
   "execution_count": 19,
   "id": "93864f5f",
   "metadata": {},
   "outputs": [
    {
     "name": "stdout",
     "output_type": "stream",
     "text": [
      "Hello-world\n"
     ]
    }
   ],
   "source": [
    "print(\"Hello\" + \"-\" + \"world\")"
   ]
  },
  {
   "cell_type": "code",
   "execution_count": 20,
   "id": "a5fb7c0e",
   "metadata": {},
   "outputs": [
    {
     "name": "stdout",
     "output_type": "stream",
     "text": [
      "*****\n"
     ]
    }
   ],
   "source": [
    "print(\"*\"*5)"
   ]
  },
  {
   "cell_type": "code",
   "execution_count": 21,
   "id": "0f3418e8",
   "metadata": {},
   "outputs": [
    {
     "name": "stdout",
     "output_type": "stream",
     "text": [
      "False\n"
     ]
    }
   ],
   "source": [
    "print(\"hello\"== \"world\")"
   ]
  },
  {
   "cell_type": "markdown",
   "id": "e4a97a98",
   "metadata": {},
   "source": [
    "<font size ='3'> <B>2.Relational Operations</B></font>"
   ]
  },
  {
   "cell_type": "code",
   "execution_count": 22,
   "id": "d21e80bd",
   "metadata": {},
   "outputs": [
    {
     "name": "stdout",
     "output_type": "stream",
     "text": [
      "False\n"
     ]
    }
   ],
   "source": [
    "print(\"Hello\" == \"World\")"
   ]
  },
  {
   "cell_type": "code",
   "execution_count": 23,
   "id": "9df1707c",
   "metadata": {},
   "outputs": [
    {
     "name": "stdout",
     "output_type": "stream",
     "text": [
      "True\n"
     ]
    }
   ],
   "source": [
    "print(\"Hello\" != \"World\")"
   ]
  },
  {
   "cell_type": "code",
   "execution_count": 24,
   "id": "d8dc1fbf",
   "metadata": {},
   "outputs": [
    {
     "name": "stdout",
     "output_type": "stream",
     "text": [
      "False\n"
     ]
    }
   ],
   "source": [
    "print(\"Mumbai\" > \"Pune\")# Lexicographically "
   ]
  },
  {
   "cell_type": "code",
   "execution_count": 25,
   "id": "c1d9b825",
   "metadata": {},
   "outputs": [
    {
     "name": "stdout",
     "output_type": "stream",
     "text": [
      "True\n"
     ]
    }
   ],
   "source": [
    "print(\"Goa\" < \"Kolkata\")"
   ]
  },
  {
   "cell_type": "code",
   "execution_count": 26,
   "id": "a17b79ec",
   "metadata": {},
   "outputs": [
    {
     "name": "stdout",
     "output_type": "stream",
     "text": [
      "False\n"
     ]
    }
   ],
   "source": [
    "print(\"kol\" < \"Kol\")"
   ]
  },
  {
   "cell_type": "markdown",
   "id": "d0472a81",
   "metadata": {},
   "source": [
    "<font size ='3'> <B>3.Logical Operations</B> </font>"
   ]
  },
  {
   "cell_type": "markdown",
   "id": "754af245",
   "metadata": {},
   "source": [
    "### *  \" \" -> False \"wreghr\" -> True"
   ]
  },
  {
   "cell_type": "code",
   "execution_count": 27,
   "id": "ea77fe99",
   "metadata": {},
   "outputs": [
    {
     "name": "stdout",
     "output_type": "stream",
     "text": [
      "world\n"
     ]
    }
   ],
   "source": [
    "print(\"hello\" and \"world\")"
   ]
  },
  {
   "cell_type": "code",
   "execution_count": 28,
   "id": "ce41dad8",
   "metadata": {},
   "outputs": [
    {
     "name": "stdout",
     "output_type": "stream",
     "text": [
      "Hello\n"
     ]
    }
   ],
   "source": [
    "print(\" \" and \"Hello\")"
   ]
  },
  {
   "cell_type": "code",
   "execution_count": 29,
   "id": "c5e95614",
   "metadata": {},
   "outputs": [
    {
     "name": "stdout",
     "output_type": "stream",
     "text": [
      " \n"
     ]
    }
   ],
   "source": [
    "print(\" \" or \"world\")"
   ]
  },
  {
   "cell_type": "code",
   "execution_count": 30,
   "id": "d00e96a5",
   "metadata": {},
   "outputs": [
    {
     "name": "stdout",
     "output_type": "stream",
     "text": [
      "hello\n"
     ]
    }
   ],
   "source": [
    "print(\"hello\" or \"world\")"
   ]
  },
  {
   "cell_type": "code",
   "execution_count": 31,
   "id": "1391e68c",
   "metadata": {},
   "outputs": [
    {
     "name": "stdout",
     "output_type": "stream",
     "text": [
      "world\n"
     ]
    }
   ],
   "source": [
    "print(\"hello\" and \"world\")"
   ]
  },
  {
   "cell_type": "code",
   "execution_count": 32,
   "id": "279d9b34",
   "metadata": {},
   "outputs": [
    {
     "name": "stdout",
     "output_type": "stream",
     "text": [
      "False\n"
     ]
    }
   ],
   "source": [
    "print(not \"hello\")"
   ]
  },
  {
   "cell_type": "code",
   "execution_count": 33,
   "id": "b1239030",
   "metadata": {},
   "outputs": [
    {
     "name": "stdout",
     "output_type": "stream",
     "text": [
      "True\n"
     ]
    }
   ],
   "source": [
    "print(not \"\")"
   ]
  },
  {
   "cell_type": "markdown",
   "id": "b9885917",
   "metadata": {},
   "source": [
    "<font size ='3'> <B>4.Membership Operations</B> </font>"
   ]
  },
  {
   "cell_type": "code",
   "execution_count": 34,
   "id": "3c6b8afb",
   "metadata": {},
   "outputs": [
    {
     "name": "stdout",
     "output_type": "stream",
     "text": [
      "True\n"
     ]
    }
   ],
   "source": [
    "print(\"D\" in \"Delhi\")"
   ]
  },
  {
   "cell_type": "code",
   "execution_count": 35,
   "id": "4aa9a897",
   "metadata": {},
   "outputs": [
    {
     "ename": "NameError",
     "evalue": "name 'Delhi' is not defined",
     "output_type": "error",
     "traceback": [
      "\u001b[1;31m---------------------------------------------------------------------------\u001b[0m",
      "\u001b[1;31mNameError\u001b[0m                                 Traceback (most recent call last)",
      "Cell \u001b[1;32mIn[35], line 1\u001b[0m\n\u001b[1;32m----> 1\u001b[0m \u001b[38;5;28mprint\u001b[39m(\u001b[38;5;124m\"\u001b[39m\u001b[38;5;124md\u001b[39m\u001b[38;5;124m\"\u001b[39m \u001b[38;5;129;01min\u001b[39;00m Delhi)\n",
      "\u001b[1;31mNameError\u001b[0m: name 'Delhi' is not defined"
     ]
    }
   ],
   "source": [
    "print(\"d\" in Delhi)"
   ]
  },
  {
   "cell_type": "markdown",
   "id": "ea90aaf4",
   "metadata": {},
   "source": [
    " <font size ='5'><b><center>5.LOOPS ON STRING</b></font></center>"
   ]
  },
  {
   "cell_type": "code",
   "execution_count": null,
   "id": "475befb2",
   "metadata": {},
   "outputs": [],
   "source": [
    "for i in 'hello':\n",
    "  print(i)"
   ]
  },
  {
   "cell_type": "code",
   "execution_count": null,
   "id": "25687227",
   "metadata": {},
   "outputs": [],
   "source": [
    "for i in 'delhi':\n",
    "  print('pune')"
   ]
  },
  {
   "cell_type": "markdown",
   "id": "30023948",
   "metadata": {},
   "source": [
    " <font size ='5'><b><center>6.String common function</b></font></center>"
   ]
  },
  {
   "cell_type": "code",
   "execution_count": 36,
   "id": "546ea6fc",
   "metadata": {},
   "outputs": [],
   "source": [
    "c = \"kolkata\""
   ]
  },
  {
   "cell_type": "markdown",
   "id": "34f1e7a6",
   "metadata": {},
   "source": [
    "<font size ='3'> <B>1.len:</B>It is a function retunes number of items in an object</font>"
   ]
  },
  {
   "cell_type": "code",
   "execution_count": 37,
   "id": "92eac910",
   "metadata": {},
   "outputs": [
    {
     "name": "stdout",
     "output_type": "stream",
     "text": [
      "7\n"
     ]
    }
   ],
   "source": [
    "print(len(c))"
   ]
  },
  {
   "cell_type": "markdown",
   "id": "787579d7",
   "metadata": {},
   "source": [
    "<font size ='3'> <B>2.max:</B>It is a function retunes the items with heighest value.</font>"
   ]
  },
  {
   "cell_type": "code",
   "execution_count": 38,
   "id": "bfcfb027",
   "metadata": {},
   "outputs": [
    {
     "name": "stdout",
     "output_type": "stream",
     "text": [
      "t\n"
     ]
    }
   ],
   "source": [
    "print(max(c))"
   ]
  },
  {
   "cell_type": "markdown",
   "id": "9ab5b382",
   "metadata": {},
   "source": [
    "<font size ='3'> <B>3.min:</B>It is a function retunes the items with lowest value.</font>"
   ]
  },
  {
   "cell_type": "code",
   "execution_count": 39,
   "id": "639c951f",
   "metadata": {},
   "outputs": [
    {
     "name": "stdout",
     "output_type": "stream",
     "text": [
      "a\n"
     ]
    }
   ],
   "source": [
    "print(min(c))"
   ]
  },
  {
   "cell_type": "markdown",
   "id": "c5a67fae",
   "metadata": {},
   "source": [
    "<font size ='3'> <B>4.sorted:</B>It is a function retunes the sorted list of the specified iterable object.</font>"
   ]
  },
  {
   "cell_type": "code",
   "execution_count": 40,
   "id": "b9e8ba37",
   "metadata": {},
   "outputs": [
    {
     "name": "stdout",
     "output_type": "stream",
     "text": [
      "['t', 'o', 'l', 'k', 'k', 'a', 'a']\n"
     ]
    }
   ],
   "source": [
    "print(sorted(c,reverse=True))"
   ]
  },
  {
   "cell_type": "markdown",
   "id": "9f9da666",
   "metadata": {},
   "source": [
    " <font size ='5'><b><center>7.String function</b></font></center>"
   ]
  },
  {
   "cell_type": "markdown",
   "id": "2ebd518d",
   "metadata": {},
   "source": [
    "<font size ='3'> <B> 1. Capitalize:</B>Converts the first character to upper case.</font>"
   ]
  },
  {
   "cell_type": "code",
   "execution_count": 41,
   "id": "9ba47013",
   "metadata": {},
   "outputs": [
    {
     "name": "stdout",
     "output_type": "stream",
     "text": [
      "It is raining today\n"
     ]
    }
   ],
   "source": [
    "c = \"kolkata\"\n",
    "print(\"it is raining today\".capitalize())"
   ]
  },
  {
   "cell_type": "markdown",
   "id": "1d40860e",
   "metadata": {},
   "source": [
    "<font size ='3'> <B>2.Title:</B> Converts the first character of each word to upper case.</font>"
   ]
  },
  {
   "cell_type": "code",
   "execution_count": 42,
   "id": "07e90c06",
   "metadata": {},
   "outputs": [
    {
     "name": "stdout",
     "output_type": "stream",
     "text": [
      "It Is Raining Today\n"
     ]
    }
   ],
   "source": [
    "c = \"kolkata\"\n",
    "print(\"it is raining today\".title())"
   ]
  },
  {
   "cell_type": "markdown",
   "id": "785a1d07",
   "metadata": {},
   "source": [
    "<font size ='3'><B>2.Upper:</B>Converts a string into upper case.</font>"
   ]
  },
  {
   "cell_type": "code",
   "execution_count": 43,
   "id": "86ee264d",
   "metadata": {},
   "outputs": [
    {
     "name": "stdout",
     "output_type": "stream",
     "text": [
      "KOLKATA\n"
     ]
    }
   ],
   "source": [
    "print(c.upper())"
   ]
  },
  {
   "cell_type": "markdown",
   "id": "3aeef007",
   "metadata": {},
   "source": [
    "<font size ='3'> <B>3.Lower:</B> Converts a string into lower case.</font>"
   ]
  },
  {
   "cell_type": "code",
   "execution_count": 44,
   "id": "0907116b",
   "metadata": {},
   "outputs": [
    {
     "name": "stdout",
     "output_type": "stream",
     "text": [
      "kolkata\n"
     ]
    }
   ],
   "source": [
    "print(c.lower())"
   ]
  },
  {
   "cell_type": "markdown",
   "id": "28d0be3f",
   "metadata": {},
   "source": [
    "<font size ='3'> <B> 4.Swapcase:</B>Swaps cases,lower case becomes upper case and vice versa. </font>"
   ]
  },
  {
   "cell_type": "code",
   "execution_count": 45,
   "id": "7dd9832c",
   "metadata": {},
   "outputs": [
    {
     "name": "stdout",
     "output_type": "stream",
     "text": [
      "kOlKaTa\n"
     ]
    }
   ],
   "source": [
    "print(\"KoLkAtA\".swapcase())"
   ]
  },
  {
   "cell_type": "markdown",
   "id": "de3dc21e",
   "metadata": {},
   "source": [
    "<font size ='3'> <B> 5.Count:</B> Returns the number of times a specified value occurs in a string </font>"
   ]
  },
  {
   "cell_type": "code",
   "execution_count": 46,
   "id": "b36961d4",
   "metadata": {},
   "outputs": [
    {
     "name": "stdout",
     "output_type": "stream",
     "text": [
      "0\n"
     ]
    }
   ],
   "source": [
    "print(\"it is raining\".count(\"x\"))"
   ]
  },
  {
   "cell_type": "markdown",
   "id": "f008fbe3",
   "metadata": {},
   "source": [
    "<font size ='3'> <B>6.Find:</B> Searches the string for a specified value and returns the position of where it was found</font>"
   ]
  },
  {
   "cell_type": "code",
   "execution_count": 47,
   "id": "bf466807",
   "metadata": {},
   "outputs": [
    {
     "name": "stdout",
     "output_type": "stream",
     "text": [
      "-1\n"
     ]
    }
   ],
   "source": [
    "print(\"it is raining\".find(\"x\"))"
   ]
  },
  {
   "cell_type": "markdown",
   "id": "79b1a348",
   "metadata": {},
   "source": [
    "<font size ='3'> <B>7.index:</B> Searches the string for a specified value and returns the position of where it was found</font>"
   ]
  },
  {
   "cell_type": "code",
   "execution_count": 48,
   "id": "68e02205",
   "metadata": {},
   "outputs": [
    {
     "name": "stdout",
     "output_type": "stream",
     "text": [
      "-1\n"
     ]
    }
   ],
   "source": [
    "print(\"it is raining\".find(\"x\"))"
   ]
  },
  {
   "cell_type": "markdown",
   "id": "94026889",
   "metadata": {},
   "source": [
    "<font size ='3'> <B>8.endswith:</B> Returns true if the string ends with the specified value.</font>"
   ]
  },
  {
   "cell_type": "code",
   "execution_count": 49,
   "id": "47f56521",
   "metadata": {},
   "outputs": [
    {
     "name": "stdout",
     "output_type": "stream",
     "text": [
      "False\n"
     ]
    }
   ],
   "source": [
    "print(\"it is raining\".endswith(\"ingef\"))"
   ]
  },
  {
   "cell_type": "markdown",
   "id": "1594ae74",
   "metadata": {},
   "source": [
    "<font size ='3'> <B>9.startswith:</B>Returns true if the string starts with the specified value</font>"
   ]
  },
  {
   "cell_type": "code",
   "execution_count": 50,
   "id": "3ebe9fad",
   "metadata": {},
   "outputs": [
    {
     "name": "stdout",
     "output_type": "stream",
     "text": [
      "True\n"
     ]
    }
   ],
   "source": [
    "print(\"it is raining\".startswith(\"it\"))"
   ]
  },
  {
   "cell_type": "markdown",
   "id": "e9b10735",
   "metadata": {},
   "source": [
    "<font size ='3'> <B>10.format:</B> formats specified values in a string</font>"
   ]
  },
  {
   "cell_type": "code",
   "execution_count": 51,
   "id": "9835de6e",
   "metadata": {},
   "outputs": [
    {
     "name": "stdout",
     "output_type": "stream",
     "text": [
      "Hello my name is Bibek and I am 23\n"
     ]
    }
   ],
   "source": [
    "print(\"Hello my name is {} and I am {}\".format(\"Bibek\",23))"
   ]
  },
  {
   "cell_type": "code",
   "execution_count": 52,
   "id": "9ff2792b",
   "metadata": {},
   "outputs": [
    {
     "name": "stdout",
     "output_type": "stream",
     "text": [
      "Hello my name is Bibek and I am 23\n"
     ]
    }
   ],
   "source": [
    "print(\"Hello my name is {1} and I am {0}\".format(23,\"Bibek\"))"
   ]
  },
  {
   "cell_type": "code",
   "execution_count": 53,
   "id": "dea2e766",
   "metadata": {},
   "outputs": [
    {
     "name": "stdout",
     "output_type": "stream",
     "text": [
      "Hello my name is 25 and I am bibek\n"
     ]
    }
   ],
   "source": [
    "print(\"Hello my name is {age} and I am {name}\".format(name = \"bibek\",age = 25))"
   ]
  },
  {
   "cell_type": "code",
   "execution_count": 54,
   "id": "7d54eeb6",
   "metadata": {},
   "outputs": [
    {
     "name": "stdout",
     "output_type": "stream",
     "text": [
      "Hello my name is bibek and I am bibek\n"
     ]
    }
   ],
   "source": [
    "print(\"Hello my name is {name} and I am {name}\".format(name = \"bibek\",age = 25, weight = 60))"
   ]
  },
  {
   "cell_type": "markdown",
   "id": "8ad0a82c",
   "metadata": {},
   "source": [
    "<font size ='3'> <B>11.isalnum:</B>Returns True if all characters in the string are alphanumeric</font>"
   ]
  },
  {
   "cell_type": "code",
   "execution_count": 55,
   "id": "ff55807e",
   "metadata": {},
   "outputs": [
    {
     "name": "stdout",
     "output_type": "stream",
     "text": [
      "False\n"
     ]
    }
   ],
   "source": [
    "print(\"FLAT20&\".isalnum())"
   ]
  },
  {
   "cell_type": "markdown",
   "id": "a19146e4",
   "metadata": {},
   "source": [
    "<font size ='3'> <B>12.isalpha:</B>Returns True if all characters in the string are in the alphabet.</font>"
   ]
  },
  {
   "cell_type": "code",
   "execution_count": 56,
   "id": "d5e586d5",
   "metadata": {},
   "outputs": [
    {
     "name": "stdout",
     "output_type": "stream",
     "text": [
      "False\n"
     ]
    }
   ],
   "source": [
    "print(\"FLAT20\".isalpha())"
   ]
  },
  {
   "cell_type": "markdown",
   "id": "a58c9628",
   "metadata": {},
   "source": [
    "<font size ='3'> <B>13.isdigit:</B>Returns True if all characters in the string are digits.</font>"
   ]
  },
  {
   "cell_type": "code",
   "execution_count": 57,
   "id": "38e6508f",
   "metadata": {},
   "outputs": [
    {
     "name": "stdout",
     "output_type": "stream",
     "text": [
      "False\n"
     ]
    }
   ],
   "source": [
    "print(\"20A\".isdigit())"
   ]
  },
  {
   "cell_type": "markdown",
   "id": "a68b14e4",
   "metadata": {},
   "source": [
    "<font size ='3'> <B>14.isidentifier:</B>Returns True if the string is an identifier.</font>"
   ]
  },
  {
   "cell_type": "code",
   "execution_count": 58,
   "id": "8f5fab76",
   "metadata": {},
   "outputs": [
    {
     "name": "stdout",
     "output_type": "stream",
     "text": [
      "True\n"
     ]
    }
   ],
   "source": [
    "print(\"hello_world\".isidentifier())"
   ]
  },
  {
   "cell_type": "markdown",
   "id": "3c56d6ff",
   "metadata": {},
   "source": [
    "<font size ='3'> <B>15.Split:</B>Splits the string at the specified separator, and returns a list</font>"
   ]
  },
  {
   "cell_type": "code",
   "execution_count": 59,
   "id": "0b409cf2",
   "metadata": {},
   "outputs": [
    {
     "name": "stdout",
     "output_type": "stream",
     "text": [
      "['who', 'is', 'the', 'pm', 'of', 'india']\n"
     ]
    }
   ],
   "source": [
    "print(\"who is the pm of india\".split())"
   ]
  },
  {
   "cell_type": "code",
   "execution_count": 60,
   "id": "bf82324c",
   "metadata": {},
   "outputs": [
    {
     "name": "stdout",
     "output_type": "stream",
     "text": [
      "['who is the pm of india']\n"
     ]
    }
   ],
   "source": [
    "print(\"who is the pm of india\".split(\"x\"))"
   ]
  },
  {
   "cell_type": "markdown",
   "id": "6288ed56",
   "metadata": {},
   "source": [
    "<font size ='3'> <B>16.Join:</B>Converts the elements of an iterable into a string.</font>"
   ]
  },
  {
   "cell_type": "code",
   "execution_count": 61,
   "id": "200dc1b6",
   "metadata": {},
   "outputs": [
    {
     "name": "stdout",
     "output_type": "stream",
     "text": [
      "who is the pm of india\n"
     ]
    }
   ],
   "source": [
    "print(\" \".join(['who', 'is', 'the', 'pm', 'of', 'india']))"
   ]
  },
  {
   "cell_type": "code",
   "execution_count": 62,
   "id": "bd8c0900",
   "metadata": {},
   "outputs": [
    {
     "name": "stdout",
     "output_type": "stream",
     "text": [
      "who-is-the-pm-of-india\n"
     ]
    }
   ],
   "source": [
    "print(\"-\".join(['who', 'is', 'the', 'pm', 'of', 'india']))"
   ]
  },
  {
   "cell_type": "markdown",
   "id": "8fc14348",
   "metadata": {},
   "source": [
    "<font size ='3'> <B>17.Replace:</B>Returns a string where a specified value is replaced with a specified value.</font>"
   ]
  },
  {
   "cell_type": "code",
   "execution_count": 63,
   "id": "6ef46ce1",
   "metadata": {},
   "outputs": [
    {
     "name": "stdout",
     "output_type": "stream",
     "text": [
      "Hi my name is Amit\n"
     ]
    }
   ],
   "source": [
    "print(\"Hi my name is Nitish\".replace(\"Nitish\",\"Amit\"))"
   ]
  },
  {
   "cell_type": "markdown",
   "id": "c11e1eaa",
   "metadata": {},
   "source": [
    "<font size ='3'> <B>18.Strip:</B>:Returns a trimmed version of the string</font>"
   ]
  },
  {
   "cell_type": "code",
   "execution_count": 64,
   "id": "c8bb8ba1",
   "metadata": {},
   "outputs": [
    {
     "name": "stdout",
     "output_type": "stream",
     "text": [
      "nitish\n"
     ]
    }
   ],
   "source": [
    "name = \"               nitish              \"\n",
    "print(name.strip())"
   ]
  },
  {
   "cell_type": "markdown",
   "id": "3fcaaa70",
   "metadata": {},
   "source": [
    "<font size ='5'><b><center>programming problem on string</b></font></center>"
   ]
  },
  {
   "cell_type": "markdown",
   "id": "c9a2071e",
   "metadata": {},
   "source": [
    "<font size ='3'>1.Find the length of a given string without using the len() function</font>"
   ]
  },
  {
   "cell_type": "code",
   "execution_count": 65,
   "id": "06af0687",
   "metadata": {},
   "outputs": [
    {
     "name": "stdout",
     "output_type": "stream",
     "text": [
      "Enter the string:bibek\n",
      "length of string is: 5\n"
     ]
    }
   ],
   "source": [
    "s = input('Enter the string:')\n",
    "counter = 0\n",
    "for i in s:\n",
    "  counter += 1\n",
    "print('length of string is:',counter)"
   ]
  },
  {
   "cell_type": "markdown",
   "id": "e5defd57",
   "metadata": {},
   "source": [
    " <font size ='3'>2.Extract username from a given email.</font>"
   ]
  },
  {
   "cell_type": "code",
   "execution_count": 66,
   "id": "0cd31f96",
   "metadata": {},
   "outputs": [
    {
     "name": "stdout",
     "output_type": "stream",
     "text": [
      "Enter the email:bibek4panda@gmail.com\n",
      "bibek4panda\n"
     ]
    }
   ],
   "source": [
    "s = input('Enter the email:')\n",
    "pos = s.index('@')\n",
    "print(s[0:pos])"
   ]
  },
  {
   "cell_type": "markdown",
   "id": "1af65a31",
   "metadata": {},
   "source": [
    "<font size ='3'>3.Count the frequency of a particular character in a provided string.</font>"
   ]
  },
  {
   "cell_type": "code",
   "execution_count": 67,
   "id": "1eee75f3",
   "metadata": {},
   "outputs": [
    {
     "name": "stdout",
     "output_type": "stream",
     "text": [
      "Enter the email:bibek4panda@gmail.com\n",
      "What would like to search for:bibek\n",
      "frequency 0\n"
     ]
    }
   ],
   "source": [
    "s = input('Enter the email:')\n",
    "term = input('What would like to search for:')\n",
    "counter = 0\n",
    "for i in s:\n",
    "  if i == term:\n",
    "    counter += 1\n",
    "print('frequency',counter)"
   ]
  },
  {
   "cell_type": "markdown",
   "id": "f6f25d9b",
   "metadata": {},
   "source": [
    "<font size ='3'>4. Write a program which can remove a particular character from a string.</font>"
   ]
  },
  {
   "cell_type": "code",
   "execution_count": 68,
   "id": "2c22b67f",
   "metadata": {},
   "outputs": [
    {
     "name": "stdout",
     "output_type": "stream",
     "text": [
      "Enter the string:vicky\n",
      "what would like to remove:y\n",
      "vick\n"
     ]
    }
   ],
   "source": [
    "s = input('Enter the string:')\n",
    "term = input('what would like to remove:')\n",
    "result = ''\n",
    "for i in s:\n",
    "  if i != term:\n",
    "    result = result + i\n",
    "print(result)"
   ]
  },
  {
   "cell_type": "markdown",
   "id": "dc71992d",
   "metadata": {},
   "source": [
    "<font size ='3'>5.Write a program that can check whether a given string is palindrome or not.</font>"
   ]
  },
  {
   "cell_type": "code",
   "execution_count": 69,
   "id": "e725ca22",
   "metadata": {},
   "outputs": [
    {
     "name": "stdout",
     "output_type": "stream",
     "text": [
      "Enter the string:abba\n",
      "The string is Palindrome\n"
     ]
    }
   ],
   "source": [
    "s = input('Enter the string:')\n",
    "flag = True\n",
    "for i in range(0,len(s)//2):\n",
    "  if s[i] != s[len(s) - i -1]:\n",
    "    flag = False\n",
    "    print('The string is not a Palindrome')\n",
    "    break\n",
    "if flag:\n",
    "  print('The string is Palindrome')"
   ]
  },
  {
   "cell_type": "markdown",
   "id": "a1b8f07b",
   "metadata": {},
   "source": [
    "<font size ='3'>6.Write a program to count the number of words in a string without split().</font>"
   ]
  },
  {
   "cell_type": "code",
   "execution_count": 70,
   "id": "fa852017",
   "metadata": {},
   "outputs": [
    {
     "name": "stdout",
     "output_type": "stream",
     "text": [
      "Enter the string:my name is bibek\n",
      "['my', 'name', 'is', 'bibek']\n"
     ]
    }
   ],
   "source": [
    "s = input('Enter the string:')\n",
    "L = []\n",
    "temp = ''\n",
    "for i in s:\n",
    "\n",
    "  if i != ' ':\n",
    "    temp = temp + i\n",
    "  else:\n",
    "    L.append(temp)\n",
    "    temp = ''\n",
    "L.append(temp)\n",
    "print(L)"
   ]
  },
  {
   "cell_type": "markdown",
   "id": "4699ae22",
   "metadata": {},
   "source": [
    "<font size ='3'>7.Write a python program to convert a string to title case without using the title().</font>"
   ]
  },
  {
   "cell_type": "code",
   "execution_count": 71,
   "id": "ae5c2951",
   "metadata": {},
   "outputs": [
    {
     "name": "stdout",
     "output_type": "stream",
     "text": [
      "Enter the string:hi my namE iS bibek\n",
      "Hi My Name Is Bibek\n"
     ]
    }
   ],
   "source": [
    "s = input('Enter the string:')\n",
    "L = []\n",
    "for i in s.split():\n",
    "  L.append(i[0].upper() + i[1:].lower())\n",
    "print(\" \".join(L))"
   ]
  },
  {
   "cell_type": "markdown",
   "id": "fc54b1d1",
   "metadata": {},
   "source": [
    "<font size ='3'>8.Write a program that can convert an integer to string.</font>"
   ]
  },
  {
   "cell_type": "code",
   "execution_count": 72,
   "id": "d0a399ed",
   "metadata": {},
   "outputs": [
    {
     "name": "stdout",
     "output_type": "stream",
     "text": [
      "Enter the number:993829099\n",
      "993829099\n",
      "<class 'str'>\n"
     ]
    }
   ],
   "source": [
    "number = int(input('Enter the number:'))\n",
    "digits = '0123456789'\n",
    "result = ''\n",
    "while number != 0:\n",
    "  result = digits[number % 10] + result\n",
    "  number = number//10\n",
    "print(result)\n",
    "print(type(result))"
   ]
  },
  {
   "cell_type": "code",
   "execution_count": null,
   "id": "c88d7975",
   "metadata": {},
   "outputs": [],
   "source": []
  }
 ],
 "metadata": {
  "kernelspec": {
   "display_name": "Python 3 (ipykernel)",
   "language": "python",
   "name": "python3"
  },
  "language_info": {
   "codemirror_mode": {
    "name": "ipython",
    "version": 3
   },
   "file_extension": ".py",
   "mimetype": "text/x-python",
   "name": "python",
   "nbconvert_exporter": "python",
   "pygments_lexer": "ipython3",
   "version": "3.11.5"
  }
 },
 "nbformat": 4,
 "nbformat_minor": 5
}
